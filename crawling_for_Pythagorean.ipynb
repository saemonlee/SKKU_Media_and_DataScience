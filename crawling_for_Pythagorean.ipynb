{
 "cells": [
  {
   "cell_type": "code",
   "execution_count": 1,
   "metadata": {},
   "outputs": [],
   "source": [
    "from bs4 import BeautifulSoup\n",
    "from selenium import webdriver\n",
    "from tqdm import tqdm_notebook\n",
    "from time import sleep\n",
    "import pandas as pd\n",
    "import numpy as np\n",
    "import re\n",
    "import math\n",
    "import datetime"
   ]
  },
  {
   "cell_type": "code",
   "execution_count": 2,
   "metadata": {},
   "outputs": [],
   "source": [
    "driver_path = \"drivers/chromedriver.exe\"\n",
    "driver = webdriver.Chrome(executable_path=driver_path)"
   ]
  },
  {
   "cell_type": "markdown",
   "metadata": {},
   "source": [
    "# STATIZ에서 공격지표 크롤링"
   ]
  },
  {
   "cell_type": "code",
   "execution_count": 3,
   "metadata": {},
   "outputs": [
    {
     "data": {
      "application/vnd.jupyter.widget-view+json": {
       "model_id": "459f0308690248459a7c0f20b30a04d3",
       "version_major": 2,
       "version_minor": 0
      },
      "text/plain": [
       "HBox(children=(IntProgress(value=0, max=38), HTML(value='')))"
      ]
     },
     "metadata": {},
     "output_type": "display_data"
    },
    {
     "name": "stdout",
     "output_type": "stream",
     "text": [
      "\n"
     ]
    }
   ],
   "source": [
    "team_o = []\n",
    "run_o = []\n",
    "year_o = []\n",
    "\n",
    "for year in tqdm_notebook(range(1982, 2020)):\n",
    "    url = \"http://www.statiz.co.kr/stat.php?opt=0&sopt=0&re=0&ys={year}&ye={year}&se=0&te=&tm=&ty=0&qu=auto&po=0&as=&ae=&hi=&un=&pl=&da=1&o1=WAR_ALL_ADJ&o2=TPA&de=1&lr=5&tr=&cv=&ml=1&sn=30&si=&cn=\"\n",
    "    driver.get(url.format(year=year))\n",
    "    html = driver.page_source\n",
    "    soup = BeautifulSoup(html, \"lxml\")\n",
    "    soup_rcd = soup.find_all(\"tbody\")[1].find_all(\"td\")\n",
    "    for i in range(1,len(soup_rcd)//31):\n",
    "        count_t = i*31+1\n",
    "        count_r = i*31+7\n",
    "        team_o.append(soup_rcd[count_t].get_text())\n",
    "        run_o.append(int(soup_rcd[count_r].find(\"span\").get_text()))\n",
    "        year_o.append(year)"
   ]
  },
  {
   "cell_type": "markdown",
   "metadata": {},
   "source": [
    "# DATAFRAME 만들기"
   ]
  },
  {
   "cell_type": "code",
   "execution_count": 4,
   "metadata": {},
   "outputs": [],
   "source": [
    "df_o = pd.DataFrame({'year':year_o, 'team':team_o, 'run_o':run_o})"
   ]
  },
  {
   "cell_type": "markdown",
   "metadata": {},
   "source": [
    "# STATIZ에서 수비지표 크롤링"
   ]
  },
  {
   "cell_type": "code",
   "execution_count": 5,
   "metadata": {},
   "outputs": [
    {
     "data": {
      "application/vnd.jupyter.widget-view+json": {
       "model_id": "34951b758258419898bef91fe0420333",
       "version_major": 2,
       "version_minor": 0
      },
      "text/plain": [
       "HBox(children=(IntProgress(value=0, max=38), HTML(value='')))"
      ]
     },
     "metadata": {},
     "output_type": "display_data"
    },
    {
     "name": "stdout",
     "output_type": "stream",
     "text": [
      "\n"
     ]
    }
   ],
   "source": [
    "year_d = []\n",
    "team_d = []\n",
    "run_d = []\n",
    "\n",
    "for year in tqdm_notebook(range(1982, 2020)):\n",
    "    url = \"http://www.statiz.co.kr/stat.php?opt=0&sopt=0&re=1&ys={year}&ye={year}&se=0&te=&tm=&ty=0&qu=auto&po=0&as=&ae=&hi=&un=&pl=&da=1&o1=WAR&o2=OutCount&de=1&lr=5&tr=&cv=&ml=1&sn=30&si=&cn=\"\n",
    "    driver.get(url.format(year=year))\n",
    "    html = driver.page_source\n",
    "    soup = BeautifulSoup(html, \"lxml\")\n",
    "    soup_rcd = soup.find_all(\"tbody\")[1].find_all(\"td\")\n",
    "    for i in range(1, len(soup_rcd)//33):\n",
    "        count_t = i*33+1\n",
    "        count_r = i*33+13\n",
    "        year_d.append(year)\n",
    "        team_d.append(soup_rcd[count_t].get_text())\n",
    "        run_d.append(int(soup_rcd[count_r].find(\"span\").get_text()))"
   ]
  },
  {
   "cell_type": "markdown",
   "metadata": {},
   "source": [
    "# DATAFRAME 만들기"
   ]
  },
  {
   "cell_type": "code",
   "execution_count": 6,
   "metadata": {},
   "outputs": [],
   "source": [
    "df_d = pd.DataFrame({\"year\":year_d, \"team\": team_d, \"run_d\":run_d})"
   ]
  },
  {
   "cell_type": "markdown",
   "metadata": {},
   "source": [
    "# KBO 홈페이지에서 승패기록 크롤링"
   ]
  },
  {
   "cell_type": "code",
   "execution_count": 7,
   "metadata": {},
   "outputs": [
    {
     "data": {
      "application/vnd.jupyter.widget-view+json": {
       "model_id": "f0d23e9bd8e345b0a5cf6afb5d5af8a2",
       "version_major": 2,
       "version_minor": 0
      },
      "text/plain": [
       "HBox(children=(IntProgress(value=0, max=4), HTML(value='')))"
      ]
     },
     "metadata": {},
     "output_type": "display_data"
    },
    {
     "name": "stdout",
     "output_type": "stream",
     "text": [
      "\n"
     ]
    }
   ],
   "source": [
    "year_list = [1980, 1990, 2000, 2010]\n",
    "year_wl = []\n",
    "team_wl = []\n",
    "win = []\n",
    "lose = []\n",
    "\n",
    "for year in tqdm_notebook(year_list):\n",
    "    url = \"https://www.koreabaseball.com/Record/History/Team/Record.aspx?startYear={year}&halfSc=T\"\n",
    "    driver.get(url.format(year=year))\n",
    "    html = driver.page_source\n",
    "    soup = BeautifulSoup(html, \"lxml\")\n",
    "    soup_rcd = soup.find_all(\"table\")\n",
    "    for i in range(len(soup_rcd)):\n",
    "        for j in range(len(soup_rcd[i].find_all(\"th\", scope=\"row\"))):\n",
    "            year_wl.append(int(soup_rcd[i].find_all(\"th\", scope=\"col\")[0].get_text()))\n",
    "            team_wl.append(soup_rcd[i].find_all(\"th\", scope=\"row\")[j].get_text())\n",
    "            win.append(int(soup_rcd[i].find_all(\"td\")[j*7+1].get_text()))\n",
    "            lose.append(int(soup_rcd[i].find_all(\"td\")[j*7+2].get_text()))"
   ]
  },
  {
   "cell_type": "markdown",
   "metadata": {},
   "source": [
    "# DATAFRAME 만들기"
   ]
  },
  {
   "cell_type": "code",
   "execution_count": 8,
   "metadata": {},
   "outputs": [],
   "source": [
    "df_wl = pd.DataFrame({\"year\":year_wl, \"team\":team_wl, \"win\":win, \"lose\":lose})"
   ]
  },
  {
   "cell_type": "markdown",
   "metadata": {},
   "source": [
    "# 데이터 전처리"
   ]
  },
  {
   "cell_type": "code",
   "execution_count": 9,
   "metadata": {},
   "outputs": [],
   "source": [
    "df_wl[\"team\"] = df_wl[\"team\"].apply(lambda e: e.split(\" \")[0])\n",
    "df_o = df_o.replace({\"삼미/청보\":\"청보\", \"해태/KIA\":\"KIA\", \"kt\":\"KT\"})\n",
    "df_d = df_d.replace({\"삼미/청보\":\"청보\", \"해태/KIA\":\"KIA\", \"kt\":\"KT\"})\n",
    "df_wl = df_wl.replace({\"\":\"히어로즈\", \"우리\":\"히어로즈\"})"
   ]
  },
  {
   "cell_type": "markdown",
   "metadata": {},
   "source": [
    "# DATAFRAME 합치기"
   ]
  },
  {
   "cell_type": "code",
   "execution_count": 10,
   "metadata": {},
   "outputs": [],
   "source": [
    "df_1 = pd.merge(df_o, df_d)\n",
    "df_last = pd.merge(df_1, df_wl)"
   ]
  },
  {
   "cell_type": "markdown",
   "metadata": {},
   "source": [
    "# CSV로 저장"
   ]
  },
  {
   "cell_type": "code",
   "execution_count": 11,
   "metadata": {},
   "outputs": [],
   "source": [
    "df_last.to_csv(\"winning_rate_KBO.csv\", index = False)"
   ]
  }
 ],
 "metadata": {
  "kernelspec": {
   "display_name": "Python 3",
   "language": "python",
   "name": "python3"
  },
  "language_info": {
   "codemirror_mode": {
    "name": "ipython",
    "version": 3
   },
   "file_extension": ".py",
   "mimetype": "text/x-python",
   "name": "python",
   "nbconvert_exporter": "python",
   "pygments_lexer": "ipython3",
   "version": "3.6.5"
  }
 },
 "nbformat": 4,
 "nbformat_minor": 2
}
